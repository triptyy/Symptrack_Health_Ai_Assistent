{
 "cells": [
  {
   "cell_type": "code",
   "execution_count": 2,
   "id": "2b33b56b-c606-43a2-bff1-f4ea1f8925f6",
   "metadata": {},
   "outputs": [],
   "source": [
    "import pandas as pd\n",
    "import numpy as np\n",
    "from sklearn.model_selection import train_test_split\n",
    "from sklearn.ensemble import RandomForestClassifier\n",
    "from sklearn.naive_bayes import MultinomialNB\n",
    "from xgboost import XGBClassifier\n",
    "from sklearn.svm import SVC  # Using scikit-learn SVM instead of CuML\n",
    "from sklearn.multiclass import OneVsRestClassifier\n",
    "from sklearn.preprocessing import MultiLabelBinarizer\n",
    "from sklearn.metrics import accuracy_score, f1_score, precision_score, recall_score\n",
    "import joblib"
   ]
  },
  {
   "cell_type": "code",
   "execution_count": 5,
   "id": "33b733d1-7601-4258-99c7-6622e5b035c8",
   "metadata": {},
   "outputs": [],
   "source": [
    "df = pd.read_csv(\"C:/Users/tript/Downloads/shuffled_dataset.csv\")"
   ]
  },
  {
   "cell_type": "code",
   "execution_count": 6,
   "id": "6ea12fd6-09a3-4fc6-8643-0c789128fae0",
   "metadata": {},
   "outputs": [],
   "source": [
    "desc = df.describe().T\n",
    "no_value_columns = list(desc[desc[\"max\"] == 0].index)\n",
    "df.drop(columns=no_value_columns, inplace=True)"
   ]
  },
  {
   "cell_type": "code",
   "execution_count": 7,
   "id": "811f7f10-8f04-4391-b9f3-15805a8dcb30",
   "metadata": {},
   "outputs": [],
   "source": [
    "# Step 2: Initialize and fit LabelEncoder\n",
    "from sklearn.preprocessing import LabelEncoder\n",
    "le = LabelEncoder()\n",
    "df['diseases_numeric'] = le.fit_transform(df['diseases'])\n",
    "diseses_counts = pd.DataFrame(df[\"diseases\"].value_counts())\n",
    "less_value_columns = list(diseses_counts[diseses_counts[\"count\"] < 100].index)\n",
    "df = df[~df[\"diseases\"].isin(less_value_columns)]"
   ]
  },
  {
   "cell_type": "code",
   "execution_count": 8,
   "id": "6731ae55-9d0c-46e1-9050-51ebfe12e120",
   "metadata": {},
   "outputs": [],
   "source": [
    "df.drop(columns=[\"diseases_numeric\"], inplace=True)\n",
    "from sklearn.ensemble import RandomForestClassifier\n",
    "model = RandomForestClassifier()\n",
    "old_df = df.copy() "
   ]
  },
  {
   "cell_type": "code",
   "execution_count": 9,
   "id": "e5b39f07-3ea3-42c8-ad56-6c4efbbdf9e4",
   "metadata": {},
   "outputs": [],
   "source": [
    "df = old_df.groupby(\"diseases\").sample(n=100,random_state=42)"
   ]
  },
  {
   "cell_type": "code",
   "execution_count": 10,
   "id": "18ac8675-f9f1-4151-aef4-8429531fa7f5",
   "metadata": {},
   "outputs": [
    {
     "data": {
      "text/plain": [
       "diseases\n",
       "abdominal aortic aneurysm                     100\n",
       "otitis externa (swimmer's ear)                100\n",
       "paroxysmal supraventricular tachycardia       100\n",
       "paronychia                                    100\n",
       "parkinson disease                             100\n",
       "                                             ... \n",
       "female genitalia infection                    100\n",
       "eye alignment disorder                        100\n",
       "eustachian tube dysfunction (ear disorder)    100\n",
       "essential tremor                              100\n",
       "yeast infection                               100\n",
       "Name: count, Length: 443, dtype: int64"
      ]
     },
     "execution_count": 10,
     "metadata": {},
     "output_type": "execute_result"
    }
   ],
   "source": [
    "df[\"diseases\"].value_counts()"
   ]
  },
  {
   "cell_type": "code",
   "execution_count": 11,
   "id": "39d2679d-d35f-467b-a06f-2691c62c2b07",
   "metadata": {},
   "outputs": [],
   "source": [
    "X = df.drop(columns=[\"diseases\"])\n",
    "y = df[\"diseases\"]\n",
    "X_train, X_test, y_train, y_test = train_test_split(X, y, test_size=0.05, random_state=42)"
   ]
  },
  {
   "cell_type": "code",
   "execution_count": 12,
   "id": "a2627bd0-31ec-40fc-9765-d01bc0790e94",
   "metadata": {},
   "outputs": [
    {
     "name": "stdout",
     "output_type": "stream",
     "text": [
      "train set 42085 test set 2215\n"
     ]
    }
   ],
   "source": [
    "print(\"train set\", len(X_train), \"test set\", len(X_test))"
   ]
  },
  {
   "cell_type": "code",
   "execution_count": 13,
   "id": "fcf920ad-27c5-4ba0-82ac-94ea01d0b811",
   "metadata": {},
   "outputs": [
    {
     "data": {
      "text/html": [
       "<style>#sk-container-id-1 {color: black;background-color: white;}#sk-container-id-1 pre{padding: 0;}#sk-container-id-1 div.sk-toggleable {background-color: white;}#sk-container-id-1 label.sk-toggleable__label {cursor: pointer;display: block;width: 100%;margin-bottom: 0;padding: 0.3em;box-sizing: border-box;text-align: center;}#sk-container-id-1 label.sk-toggleable__label-arrow:before {content: \"▸\";float: left;margin-right: 0.25em;color: #696969;}#sk-container-id-1 label.sk-toggleable__label-arrow:hover:before {color: black;}#sk-container-id-1 div.sk-estimator:hover label.sk-toggleable__label-arrow:before {color: black;}#sk-container-id-1 div.sk-toggleable__content {max-height: 0;max-width: 0;overflow: hidden;text-align: left;background-color: #f0f8ff;}#sk-container-id-1 div.sk-toggleable__content pre {margin: 0.2em;color: black;border-radius: 0.25em;background-color: #f0f8ff;}#sk-container-id-1 input.sk-toggleable__control:checked~div.sk-toggleable__content {max-height: 200px;max-width: 100%;overflow: auto;}#sk-container-id-1 input.sk-toggleable__control:checked~label.sk-toggleable__label-arrow:before {content: \"▾\";}#sk-container-id-1 div.sk-estimator input.sk-toggleable__control:checked~label.sk-toggleable__label {background-color: #d4ebff;}#sk-container-id-1 div.sk-label input.sk-toggleable__control:checked~label.sk-toggleable__label {background-color: #d4ebff;}#sk-container-id-1 input.sk-hidden--visually {border: 0;clip: rect(1px 1px 1px 1px);clip: rect(1px, 1px, 1px, 1px);height: 1px;margin: -1px;overflow: hidden;padding: 0;position: absolute;width: 1px;}#sk-container-id-1 div.sk-estimator {font-family: monospace;background-color: #f0f8ff;border: 1px dotted black;border-radius: 0.25em;box-sizing: border-box;margin-bottom: 0.5em;}#sk-container-id-1 div.sk-estimator:hover {background-color: #d4ebff;}#sk-container-id-1 div.sk-parallel-item::after {content: \"\";width: 100%;border-bottom: 1px solid gray;flex-grow: 1;}#sk-container-id-1 div.sk-label:hover label.sk-toggleable__label {background-color: #d4ebff;}#sk-container-id-1 div.sk-serial::before {content: \"\";position: absolute;border-left: 1px solid gray;box-sizing: border-box;top: 0;bottom: 0;left: 50%;z-index: 0;}#sk-container-id-1 div.sk-serial {display: flex;flex-direction: column;align-items: center;background-color: white;padding-right: 0.2em;padding-left: 0.2em;position: relative;}#sk-container-id-1 div.sk-item {position: relative;z-index: 1;}#sk-container-id-1 div.sk-parallel {display: flex;align-items: stretch;justify-content: center;background-color: white;position: relative;}#sk-container-id-1 div.sk-item::before, #sk-container-id-1 div.sk-parallel-item::before {content: \"\";position: absolute;border-left: 1px solid gray;box-sizing: border-box;top: 0;bottom: 0;left: 50%;z-index: -1;}#sk-container-id-1 div.sk-parallel-item {display: flex;flex-direction: column;z-index: 1;position: relative;background-color: white;}#sk-container-id-1 div.sk-parallel-item:first-child::after {align-self: flex-end;width: 50%;}#sk-container-id-1 div.sk-parallel-item:last-child::after {align-self: flex-start;width: 50%;}#sk-container-id-1 div.sk-parallel-item:only-child::after {width: 0;}#sk-container-id-1 div.sk-dashed-wrapped {border: 1px dashed gray;margin: 0 0.4em 0.5em 0.4em;box-sizing: border-box;padding-bottom: 0.4em;background-color: white;}#sk-container-id-1 div.sk-label label {font-family: monospace;font-weight: bold;display: inline-block;line-height: 1.2em;}#sk-container-id-1 div.sk-label-container {text-align: center;}#sk-container-id-1 div.sk-container {/* jupyter's `normalize.less` sets `[hidden] { display: none; }` but bootstrap.min.css set `[hidden] { display: none !important; }` so we also need the `!important` here to be able to override the default hidden behavior on the sphinx rendered scikit-learn.org. See: https://github.com/scikit-learn/scikit-learn/issues/21755 */display: inline-block !important;position: relative;}#sk-container-id-1 div.sk-text-repr-fallback {display: none;}</style><div id=\"sk-container-id-1\" class=\"sk-top-container\"><div class=\"sk-text-repr-fallback\"><pre>GaussianNB()</pre><b>In a Jupyter environment, please rerun this cell to show the HTML representation or trust the notebook. <br />On GitHub, the HTML representation is unable to render, please try loading this page with nbviewer.org.</b></div><div class=\"sk-container\" hidden><div class=\"sk-item\"><div class=\"sk-estimator sk-toggleable\"><input class=\"sk-toggleable__control sk-hidden--visually\" id=\"sk-estimator-id-1\" type=\"checkbox\" checked><label for=\"sk-estimator-id-1\" class=\"sk-toggleable__label sk-toggleable__label-arrow\">GaussianNB</label><div class=\"sk-toggleable__content\"><pre>GaussianNB()</pre></div></div></div></div></div>"
      ],
      "text/plain": [
       "GaussianNB()"
      ]
     },
     "execution_count": 13,
     "metadata": {},
     "output_type": "execute_result"
    }
   ],
   "source": [
    "from sklearn.naive_bayes import MultinomialNB, BernoulliNB, GaussianNB\n",
    "model = GaussianNB()\n",
    "\n",
    "model.fit(X_train, y_train)"
   ]
  },
  {
   "cell_type": "code",
   "execution_count": 14,
   "id": "292b1519-7b27-41f9-b765-809cbe493612",
   "metadata": {},
   "outputs": [
    {
     "name": "stdout",
     "output_type": "stream",
     "text": [
      "Accuracy: 0.9025\n",
      "F1 Score: 0.9000\n",
      "Precision: 0.9227\n",
      "Recall: 0.9025\n"
     ]
    }
   ],
   "source": [
    "y_pred = model.predict(X_test)\n",
    "# Evaluate Model Performance\n",
    "accuracy = accuracy_score(y_test, y_pred)\n",
    "# Change average to a valid option for multiclass like 'weighted' or 'macro'\n",
    "f1 = f1_score(y_test, y_pred, average='weighted', zero_division=1)\n",
    "precision = precision_score(y_test, y_pred, average='weighted', zero_division=1)\n",
    "recall = recall_score(y_test, y_pred, average='weighted', zero_division=1)\n",
    "\n",
    "# Print Evaluation Metrics\n",
    "print(f'Accuracy: {accuracy:.4f}')\n",
    "print(f'F1 Score: {f1:.4f}')\n",
    "print(f'Precision: {precision:.4f}')\n",
    "print(f'Recall: {recall:.4f}')"
   ]
  },
  {
   "cell_type": "code",
   "execution_count": 15,
   "id": "a308bef7-fa8d-4f34-9cdc-354d585f14bb",
   "metadata": {},
   "outputs": [
    {
     "data": {
      "text/plain": [
       "['label_encoder.pkl']"
      ]
     },
     "execution_count": 15,
     "metadata": {},
     "output_type": "execute_result"
    }
   ],
   "source": [
    "joblib.dump(model, 'Gaussian_NB_model.pkl')\n",
    "joblib.dump(le, 'label_encoder.pkl')"
   ]
  },
  {
   "cell_type": "code",
   "execution_count": 17,
   "id": "fdbd84c7-3fed-4473-ae3c-5a5efb3a07a1",
   "metadata": {},
   "outputs": [
    {
     "ename": "NameError",
     "evalue": "name 'label_encoder' is not defined",
     "output_type": "error",
     "traceback": [
      "\u001b[1;31m---------------------------------------------------------------------------\u001b[0m",
      "\u001b[1;31mNameError\u001b[0m                                 Traceback (most recent call last)",
      "Cell \u001b[1;32mIn[17], line 1\u001b[0m\n\u001b[1;32m----> 1\u001b[0m \u001b[43mlabel_encoder\u001b[49m\u001b[38;5;241m.\u001b[39mfit(all_labels_including_myositis)\n",
      "\u001b[1;31mNameError\u001b[0m: name 'label_encoder' is not defined"
     ]
    }
   ],
   "source": [
    "label_encoder.fit(all_labels_including_myositis)\n"
   ]
  },
  {
   "cell_type": "code",
   "execution_count": null,
   "id": "63d35882-c177-481d-9227-bd42b374a9f4",
   "metadata": {},
   "outputs": [],
   "source": [
    "# Save\n",
    "joblib.dump(label_binarizer, \"label_binarizer.pkl\")\n",
    "joblib.dump(model, \"model.pkl\")\n"
   ]
  },
  {
   "cell_type": "code",
   "execution_count": 18,
   "id": "7a902e92-6d17-4cc0-9127-7e2df9a4ca85",
   "metadata": {},
   "outputs": [
    {
     "name": "stdout",
     "output_type": "stream",
     "text": [
      "Train set size: 42085 Test set size: 2215\n",
      "Accuracy: 0.9025\n",
      "F1 Score: 0.9000\n",
      "Precision: 0.9227\n",
      "Recall: 0.9025\n"
     ]
    },
    {
     "data": {
      "text/plain": [
       "['label_encoder.pkl']"
      ]
     },
     "execution_count": 18,
     "metadata": {},
     "output_type": "execute_result"
    }
   ],
   "source": [
    "import pandas as pd\n",
    "import numpy as np\n",
    "from sklearn.model_selection import train_test_split\n",
    "from sklearn.naive_bayes import GaussianNB\n",
    "from sklearn.preprocessing import LabelEncoder\n",
    "from sklearn.metrics import accuracy_score, f1_score, precision_score, recall_score\n",
    "import joblib\n",
    "\n",
    "# Load dataset\n",
    "df = pd.read_csv(\"C:/Users/tript/Downloads/shuffled_dataset.csv\")\n",
    "\n",
    "# Drop columns with all zero values\n",
    "desc = df.describe().T\n",
    "no_value_columns = list(desc[desc[\"max\"] == 0].index)\n",
    "df.drop(columns=no_value_columns, inplace=True)\n",
    "\n",
    "# Remove disease classes with less than 100 samples\n",
    "disease_counts = df[\"diseases\"].value_counts()\n",
    "valid_diseases = disease_counts[disease_counts >= 100].index\n",
    "df = df[df[\"diseases\"].isin(valid_diseases)]\n",
    "\n",
    "# Sample 100 examples per disease class\n",
    "df = df.groupby(\"diseases\").sample(n=100, random_state=42)\n",
    "\n",
    "# Encode the labels\n",
    "label_encoder = LabelEncoder()\n",
    "y = label_encoder.fit_transform(df[\"diseases\"])\n",
    "X = df.drop(columns=[\"diseases\"])\n",
    "\n",
    "# Train-test split\n",
    "X_train, X_test, y_train, y_test = train_test_split(X, y, test_size=0.05, random_state=42)\n",
    "print(\"Train set size:\", len(X_train), \"Test set size:\", len(X_test))\n",
    "\n",
    "# Train the model\n",
    "model = GaussianNB()\n",
    "model.fit(X_train, y_train)\n",
    "\n",
    "# Predict and evaluate\n",
    "y_pred = model.predict(X_test)\n",
    "accuracy = accuracy_score(y_test, y_pred)\n",
    "f1 = f1_score(y_test, y_pred, average='weighted', zero_division=1)\n",
    "precision = precision_score(y_test, y_pred, average='weighted', zero_division=1)\n",
    "recall = recall_score(y_test, y_pred, average='weighted', zero_division=1)\n",
    "\n",
    "print(f'Accuracy: {accuracy:.4f}')\n",
    "print(f'F1 Score: {f1:.4f}')\n",
    "print(f'Precision: {precision:.4f}')\n",
    "print(f'Recall: {recall:.4f}')\n",
    "\n",
    "# Save model and label encoder\n",
    "joblib.dump(model, \"model.pkl\")\n",
    "joblib.dump(label_encoder, \"label_encoder.pkl\")\n"
   ]
  },
  {
   "cell_type": "code",
   "execution_count": 1,
   "id": "0f693132-a7c4-41b3-9c56-de8ce4c5aa89",
   "metadata": {},
   "outputs": [
    {
     "name": "stdout",
     "output_type": "stream",
     "text": [
      "Python: 3.9.13 (tags/v3.9.13:6de2ca5, May 17 2022, 16:36:42) [MSC v.1929 64 bit (AMD64)]\n",
      "joblib: 1.4.2\n",
      "scikit-learn: 1.1.3\n",
      "numpy: 1.24.0\n"
     ]
    }
   ],
   "source": [
    "import sys, joblib, sklearn, numpy\n",
    "print(\"Python:\", sys.version)\n",
    "print(\"joblib:\", joblib.__version__)\n",
    "print(\"scikit-learn:\", sklearn.__version__)\n",
    "print(\"numpy:\", numpy.__version__)\n"
   ]
  },
  {
   "cell_type": "code",
   "execution_count": null,
   "id": "14249816-f6c6-4318-9a0a-39552c8ddd19",
   "metadata": {},
   "outputs": [],
   "source": []
  }
 ],
 "metadata": {
  "kernelspec": {
   "display_name": "Python 3 (ipykernel)",
   "language": "python",
   "name": "python3"
  },
  "language_info": {
   "codemirror_mode": {
    "name": "ipython",
    "version": 3
   },
   "file_extension": ".py",
   "mimetype": "text/x-python",
   "name": "python",
   "nbconvert_exporter": "python",
   "pygments_lexer": "ipython3",
   "version": "3.9.13"
  }
 },
 "nbformat": 4,
 "nbformat_minor": 5
}
